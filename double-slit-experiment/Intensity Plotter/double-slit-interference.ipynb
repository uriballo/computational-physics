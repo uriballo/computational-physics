{
 "cells": [
  {
   "cell_type": "markdown",
   "id": "e2d81be7-84be-49e5-a670-1a6d2a5b0b6d",
   "metadata": {},
   "source": [
    "# Double-Slit Interference\n",
    "$$I(x)=I_0 \\cos ^2\\left(\\frac{\\pi d}{\\lambda} \\frac{x}{\\ell}\\right)\\left[\\frac{\\sin \\left(\\frac{\\pi a}{\\lambda} \\frac{x}{\\ell}\\right)}{\\frac{\\pi a}{\\lambda} \\frac{x}{\\ell}}\\right]^2$$"
   ]
  },
  {
   "cell_type": "markdown",
   "id": "68474721-327c-451c-94f7-8ce96a427e0b",
   "metadata": {},
   "source": [
    "* $x$ is the position on the viewing screen with $x=0$ being the center.\n",
    "* $\\lambda$ is the wave-length.\n",
    "* $a$ is the slits width.\n",
    "* $d$ is the slit separation.\n",
    "* $\\ell$ is the distance between the screen and the slits."
   ]
  },
  {
   "cell_type": "markdown",
   "id": "5667ae07-91e3-4137-a690-c7b6ae70f4a8",
   "metadata": {},
   "source": [
    "First we redefine a few terms for readability:\n",
    "* $\\beta = x/\\ell$\n",
    "* $\\gamma(x) = \\pi x/\\lambda$\n",
    "So the equation becomes:\n",
    "$$I(x)=I_0 \\cos ^2\\left(\\gamma[d] \\beta\\right)\\left[\\frac{\\sin \\left(\\gamma[a]\\beta\\right)}{\\gamma(a)\\beta}\\right]^2$$"
   ]
  },
  {
   "cell_type": "code",
   "execution_count": 28,
   "id": "94064017-d79f-4cb4-b70b-f1622e6d3375",
   "metadata": {},
   "outputs": [
    {
     "data": {
      "text/plain": [
       "γ (generic function with 1 method)"
      ]
     },
     "execution_count": 30,
     "metadata": {},
     "output_type": "execute_result"
    }
   ],
   "source": [
    "## Simulation Setup\n",
    "λ = 550 * 10^-9   # nm → m\n",
    "a = 0.055 * 10^-3 # mm → m\n",
    "d = 5 * 10^-3 # mm → m\n",
    "ℓ = 1.2   # m\n",
    "\n",
    "β(x) = x/ℓ\n",
    "γ(x) = π*x/λ"
   ]
  },
  {
   "cell_type": "code",
   "execution_count": 2,
   "id": "0f41fe4d-7358-4118-aa88-916db411e159",
   "metadata": {},
   "outputs": [
    {
     "data": {
      "text/plain": [
       "I (generic function with 1 method)"
      ]
     },
     "execution_count": 2,
     "metadata": {},
     "output_type": "execute_result"
    }
   ],
   "source": [
    "# Equation to Model\n",
    "function I(x)\n",
    "    cosine = cos(γ(d)β(x))\n",
    "    sine = sin(γ(a)β(x))\n",
    "    γβ = γ(a)* β(x)\n",
    "    return cosine^2 * sine^2 / γβ^2\n",
    "end"
   ]
  },
  {
   "cell_type": "code",
   "execution_count": 32,
   "id": "5fefdc59-1090-42a5-8202-add3cd3e78e5",
   "metadata": {},
   "outputs": [],
   "source": [
    "using Plots\n",
    "using LaTeXStrings\n",
    "\n",
    "plotFont = \"Computer Modern\"\n",
    "default(fontfamily = plotFont, linewidth = 2, framestyle = :box, label = nothing, grid = false)\n",
    "#scalefontsizes(1.1)\n",
    "\n",
    "plot(I, -0.02,0.02, \n",
    "    title = \"Double-Slit Interference\", \n",
    "    label= L\"I(x)\", \n",
    "    linecolor = :black)\n",
    "\n",
    "xlabel!(\"screen position\")\n",
    "ylabel!(\"Intensity\")\n",
    "\n",
    "annotate!(-0.04,0.95, text(L\"\\lambda = 550\\ \\textrm{ nm}\", plotFont, 12))\n",
    "annotate!(-0.0378,0.875, text(L\"a = 0.055\\ \\textrm{ mm}\", plotFont, 12))\n",
    "annotate!(-0.038,0.80, text(L\"d = 5\\ \\textrm{ mm}\", plotFont, 12))\n",
    "annotate!(-0.041,0.725, text(L\"\\ell = 1.2\\ \\textrm{ m}\", plotFont, 12))\n",
    "savefig(\"./plot11.svg\")"
   ]
  }
 ],
 "metadata": {
  "kernelspec": {
   "display_name": "Julia 1.7.3",
   "language": "julia",
   "name": "julia-1.7"
  },
  "language_info": {
   "file_extension": ".jl",
   "mimetype": "application/julia",
   "name": "julia",
   "version": "1.7.3"
  }
 },
 "nbformat": 4,
 "nbformat_minor": 5
}
